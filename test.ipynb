{
 "cells": [
  {
   "cell_type": "code",
   "execution_count": 8,
   "metadata": {},
   "outputs": [],
   "source": [
    "import pandas as pd\n",
    "\n",
    "df = pd.read_csv('./model/fashion-mnist-train-1.csv', nrows=1)"
   ]
  },
  {
   "cell_type": "code",
   "execution_count": 29,
   "metadata": {},
   "outputs": [],
   "source": [
    "array = df.drop(\"label\", axis=1).values.reshape(28, 28)\n",
    "array = array/255\n",
    "array = array.tolist()"
   ]
  },
  {
   "cell_type": "code",
   "execution_count": 31,
   "metadata": {},
   "outputs": [
    {
     "name": "stdout",
     "output_type": "stream",
     "text": [
      "Réponse :  Sandal\n"
     ]
    }
   ],
   "source": [
    "import requests\n",
    "import json\n",
    "\n",
    "im = array\n",
    "\n",
    "data = {'image': im}\n",
    "def predict():\n",
    "    result = requests.post('http://127.0.0.1:5000/predict', json.dumps(data))\n",
    "    print(\"Réponse : \", result.text)\n",
    "if __name__ == '__main__':\n",
    "    predict()"
   ]
  }
 ],
 "metadata": {
  "kernelspec": {
   "display_name": "DeepLearning",
   "language": "python",
   "name": "python3"
  },
  "language_info": {
   "codemirror_mode": {
    "name": "ipython",
    "version": 3
   },
   "file_extension": ".py",
   "mimetype": "text/x-python",
   "name": "python",
   "nbconvert_exporter": "python",
   "pygments_lexer": "ipython3",
   "version": "3.9.16"
  },
  "orig_nbformat": 4,
  "vscode": {
   "interpreter": {
    "hash": "0624fd1482b2706ba46e0a22661e61c11f4e2f5bab6059ad1e95085843ac44a9"
   }
  }
 },
 "nbformat": 4,
 "nbformat_minor": 2
}
